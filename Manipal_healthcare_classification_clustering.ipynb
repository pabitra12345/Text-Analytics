{
 "cells": [
  {
   "cell_type": "markdown",
   "metadata": {},
   "source": [
    "# AIM-  "
   ]
  },
  {
   "cell_type": "markdown",
   "metadata": {},
   "source": [
    "Download/web scrape healthcare data(from mouthshut) of Manipal hospital and do several tasks like classification, clustering, topic modeling, aspect mining to gain insights and improve serveciability of hospitality industry."
   ]
  },
  {
   "cell_type": "code",
   "execution_count": 21,
   "metadata": {},
   "outputs": [],
   "source": [
    "import pandas as pd\n",
    "import numpy as np\n",
    "from nltk.tokenize import word_tokenize\n",
    "from nltk import pos_tag\n",
    "from nltk.corpus import stopwords\n",
    "from nltk.stem import WordNetLemmatizer\n",
    "from sklearn.preprocessing import LabelEncoder\n",
    "from collections import defaultdict\n",
    "from nltk.corpus import wordnet as wn\n",
    "from sklearn.feature_extraction.text import TfidfVectorizer\n",
    "from sklearn import model_selection, naive_bayes, svm\n",
    "from sklearn.metrics import accuracy_score\n",
    "import nltk"
   ]
  },
  {
   "cell_type": "code",
   "execution_count": 22,
   "metadata": {},
   "outputs": [
    {
     "name": "stderr",
     "output_type": "stream",
     "text": [
      "[nltk_data] Downloading package wordnet to\n",
      "[nltk_data]     C:\\Users\\NEHA\\AppData\\Roaming\\nltk_data...\n",
      "[nltk_data]   Package wordnet is already up-to-date!\n"
     ]
    },
    {
     "data": {
      "text/plain": [
       "True"
      ]
     },
     "execution_count": 22,
     "metadata": {},
     "output_type": "execute_result"
    }
   ],
   "source": [
    "nltk.download('wordnet')\n"
   ]
  },
  {
   "cell_type": "code",
   "execution_count": 23,
   "metadata": {},
   "outputs": [],
   "source": [
    "manipal_data_reference=pd.read_csv(\"D:/Text analytics/servqual project/hospitals/manipal/mouthshut/source file/Online Review Data and Servqual Model.csv\",header=0,encoding = 'unicode_escape')"
   ]
  },
  {
   "cell_type": "code",
   "execution_count": 24,
   "metadata": {},
   "outputs": [],
   "source": [
    "manipal_data=pd.read_csv(\"D:/Text analytics/servqual project/hospitals/manipal/mouthshut/source file/Online Review Data and Servqual Model.csv\",header=0,encoding = 'unicode_escape')"
   ]
  },
  {
   "cell_type": "code",
   "execution_count": 25,
   "metadata": {},
   "outputs": [
    {
     "data": {
      "text/html": [
       "<div>\n",
       "<style scoped>\n",
       "    .dataframe tbody tr th:only-of-type {\n",
       "        vertical-align: middle;\n",
       "    }\n",
       "\n",
       "    .dataframe tbody tr th {\n",
       "        vertical-align: top;\n",
       "    }\n",
       "\n",
       "    .dataframe thead th {\n",
       "        text-align: right;\n",
       "    }\n",
       "</style>\n",
       "<table border=\"1\" class=\"dataframe\">\n",
       "  <thead>\n",
       "    <tr style=\"text-align: right;\">\n",
       "      <th></th>\n",
       "      <th>Unnamed: 0</th>\n",
       "      <th>sl.no</th>\n",
       "      <th>Review_Text</th>\n",
       "      <th>Star_Rating</th>\n",
       "      <th>Number_of_Views</th>\n",
       "      <th>No_of_reviews_by_reviewer</th>\n",
       "      <th>Review.Title</th>\n",
       "      <th>Source</th>\n",
       "    </tr>\n",
       "  </thead>\n",
       "  <tbody>\n",
       "    <tr>\n",
       "      <th>0</th>\n",
       "      <td>1</td>\n",
       "      <td>1</td>\n",
       "      <td>Now a days hospitals have become a good busine...</td>\n",
       "      <td>1</td>\n",
       "      <td>1477</td>\n",
       "      <td>103</td>\n",
       "      <td>Manipal Hospital , yes it is moneypal hospital</td>\n",
       "      <td>Mouthshot</td>\n",
       "    </tr>\n",
       "    <tr>\n",
       "      <th>1</th>\n",
       "      <td>2</td>\n",
       "      <td>2</td>\n",
       "      <td>Hey viewers  today I am gonna share my views o...</td>\n",
       "      <td>2</td>\n",
       "      <td>2861</td>\n",
       "      <td>72</td>\n",
       "      <td>A nice and great</td>\n",
       "      <td>Mouthshot</td>\n",
       "    </tr>\n",
       "    <tr>\n",
       "      <th>2</th>\n",
       "      <td>3</td>\n",
       "      <td>3</td>\n",
       "      <td>\\r\\nIts nice a great hospital . with modern fa...</td>\n",
       "      <td>3</td>\n",
       "      <td>8955</td>\n",
       "      <td>12</td>\n",
       "      <td>Manipal Hospital takes too much money</td>\n",
       "      <td>Mouthshot</td>\n",
       "    </tr>\n",
       "    <tr>\n",
       "      <th>3</th>\n",
       "      <td>4</td>\n",
       "      <td>4</td>\n",
       "      <td>Dear readers and friends I went for a vacatio...</td>\n",
       "      <td>2</td>\n",
       "      <td>4143</td>\n",
       "      <td>117</td>\n",
       "      <td>Amazing Hospital</td>\n",
       "      <td>Mouthshot</td>\n",
       "    </tr>\n",
       "    <tr>\n",
       "      <th>4</th>\n",
       "      <td>5</td>\n",
       "      <td>5</td>\n",
       "      <td>hospital is veru good and outstanding I trea...</td>\n",
       "      <td>5</td>\n",
       "      <td>3597</td>\n",
       "      <td>55</td>\n",
       "      <td>Money minded hospital</td>\n",
       "      <td>Mouthshot</td>\n",
       "    </tr>\n",
       "  </tbody>\n",
       "</table>\n",
       "</div>"
      ],
      "text/plain": [
       "   Unnamed: 0  sl.no                                        Review_Text  \\\n",
       "0           1      1  Now a days hospitals have become a good busine...   \n",
       "1           2      2  Hey viewers  today I am gonna share my views o...   \n",
       "2           3      3  \\r\\nIts nice a great hospital . with modern fa...   \n",
       "3           4      4   Dear readers and friends I went for a vacatio...   \n",
       "4           5      5    hospital is veru good and outstanding I trea...   \n",
       "\n",
       "   Star_Rating  Number_of_Views  No_of_reviews_by_reviewer  \\\n",
       "0            1             1477                        103   \n",
       "1            2             2861                         72   \n",
       "2            3             8955                         12   \n",
       "3            2             4143                        117   \n",
       "4            5             3597                         55   \n",
       "\n",
       "                                     Review.Title     Source  \n",
       "0  Manipal Hospital , yes it is moneypal hospital  Mouthshot  \n",
       "1                                A nice and great  Mouthshot  \n",
       "2           Manipal Hospital takes too much money  Mouthshot  \n",
       "3                                Amazing Hospital  Mouthshot  \n",
       "4                           Money minded hospital  Mouthshot  "
      ]
     },
     "execution_count": 25,
     "metadata": {},
     "output_type": "execute_result"
    }
   ],
   "source": [
    "manipal_data.head()"
   ]
  },
  {
   "cell_type": "markdown",
   "metadata": {},
   "source": [
    "A set of text pre-processing techniques is done-\n",
    "1. Stopwords removal\n",
    "2. Removing special characters and whitespaces\n",
    "3. Changing all text to lower case\n",
    "4. Lemmatization/stemming\n",
    "5. Word tokenization"
   ]
  },
  {
   "cell_type": "code",
   "execution_count": 26,
   "metadata": {},
   "outputs": [],
   "source": [
    "#removing na values from dataset\n",
    "manipal_data.dropna(inplace=True)"
   ]
  },
  {
   "cell_type": "code",
   "execution_count": 27,
   "metadata": {},
   "outputs": [],
   "source": [
    "#converting data to lower case\n",
    "manipal_data['Review_Text']=[data.lower() for data in manipal_data['Review_Text']]"
   ]
  },
  {
   "cell_type": "code",
   "execution_count": 28,
   "metadata": {},
   "outputs": [],
   "source": [
    "#Removing stop words\n",
    "from nltk.corpus import stopwords\n",
    "for i in range(len(manipal_data)):\n",
    "        manipal_data.iloc[i,2]=' '.join([word for word in manipal_data.iloc[i,2].split() if word not in (stopwords.words('english'))])\n"
   ]
  },
  {
   "cell_type": "code",
   "execution_count": 29,
   "metadata": {},
   "outputs": [],
   "source": [
    "#tokenize text\n",
    "manipal_data['Review_Text']=[word_tokenize(data) for data in manipal_data['Review_Text']]"
   ]
  },
  {
   "cell_type": "code",
   "execution_count": 30,
   "metadata": {},
   "outputs": [],
   "source": [
    "#Lemmatize text\n",
    "from nltk.stem import WordNetLemmatizer \n",
    "lemmatizer = WordNetLemmatizer()\n",
    "for i in range(len(manipal_data)):\n",
    "    manipal_data.iloc[i,2] = ' '.join([lemmatizer.lemmatize(w) for w in manipal_data.iloc[i,2]])"
   ]
  },
  {
   "cell_type": "code",
   "execution_count": 31,
   "metadata": {},
   "outputs": [
    {
     "data": {
      "text/plain": [
       "'Hey viewers  today I am gonna share my views on a very prestigious hospital  named as  hospital . today I am reviewing this hospital on behalf of my friend who lives in Bangalore and doing hotel management . recently he was bit ill and hospitalized in this hospital  and he has been taken care by the nurses and the ward boys normally  but for two days bed rest he was charged very high and the facilities are not good as they looks by the outer side .Infrastructure  the infrastructure is descent and the quality of rooms are not good as they should be  but the garden outside it is very beautiful and it feels very relaxing as we look at it.Medical Care  the medical care is average and can be better as the hospital is very large and its name is also famous in India . the facilities are bit on a backward side and it cost a lot for patients which is not worth for me .Staff Attitude  the attitude of  staff is descent but sometimes they behave like rudely and this has to be stopped as early as possible because came in hospital just to be taken care of themselves and they expect care from the staff .Hence this is my review on this hospital  hope you guys like it .\\r\\n'"
      ]
     },
     "execution_count": 31,
     "metadata": {},
     "output_type": "execute_result"
    }
   ],
   "source": [
    "manipal_data_reference['Review_Text'][1]"
   ]
  },
  {
   "cell_type": "code",
   "execution_count": 32,
   "metadata": {},
   "outputs": [
    {
     "data": {
      "text/plain": [
       "'hey viewer today gon na share view prestigious hospital named hospital . today reviewing hospital behalf friend life bangalore hotel management . recently bit ill hospitalized hospital taken care nurse ward boy normally two day bed rest charged high facility good look outer side .infrastructure infrastructure descent quality room good garden outside beautiful feel relaxing look it.medical care medical care average better hospital large name also famous india . facility bit backward side cost lot patient worth .staff attitude attitude staff descent sometimes behave like rudely stopped early possible came hospital taken care expect care staff .hence review hospital hope guy like .'"
      ]
     },
     "execution_count": 32,
     "metadata": {},
     "output_type": "execute_result"
    }
   ],
   "source": [
    "manipal_data['Review_Text'][1]"
   ]
  },
  {
   "cell_type": "code",
   "execution_count": 233,
   "metadata": {},
   "outputs": [],
   "source": [
    "#Train and Test data\n",
    "Train_X, Test_X, Train_Y, Test_Y = model_selection.train_test_split(manipal_data['Review_Text'],manipal_data['Star_Rating'],test_size=0.3)"
   ]
  },
  {
   "cell_type": "code",
   "execution_count": null,
   "metadata": {},
   "outputs": [],
   "source": [
    "#Label Encoder(to convert categorical values to numbers)(Already ratings are numbers so no need)\n",
    "# Encoder = LabelEncoder()\n",
    "# Train_Y = Encoder.fit_transform(Train_Y)\n",
    "# Test_Y = Encoder.fit_transform(Test_Y)"
   ]
  },
  {
   "cell_type": "code",
   "execution_count": 236,
   "metadata": {},
   "outputs": [],
   "source": [
    "#TF-IDF vectorization\n",
    "Tfidf_vect = TfidfVectorizer(max_features=5000)\n",
    "Tfidf_vect.fit(manipal_data['Review_Text'])\n",
    "Train_X_Tfidf = Tfidf_vect.transform(Train_X)\n",
    "Test_X_Tfidf = Tfidf_vect.transform(Test_X)"
   ]
  },
  {
   "cell_type": "code",
   "execution_count": 240,
   "metadata": {},
   "outputs": [
    {
     "name": "stdout",
     "output_type": "stream",
     "text": [
      "Naive Bayes Accuracy Score ->  53.68421052631579\n"
     ]
    }
   ],
   "source": [
    "# fit the training dataset on the NB classifier\n",
    "Naive = naive_bayes.MultinomialNB()\n",
    "Naive.fit(Train_X_Tfidf,Train_Y)\n",
    "# predict the labels on validation dataset\n",
    "predictions_NB = Naive.predict(Test_X_Tfidf)\n",
    "# Use accuracy_score function to get the accuracy\n",
    "print(\"Naive Bayes Accuracy Score -> \",accuracy_score(predictions_NB, Test_Y)*100)"
   ]
  },
  {
   "cell_type": "code",
   "execution_count": 241,
   "metadata": {},
   "outputs": [
    {
     "name": "stdout",
     "output_type": "stream",
     "text": [
      "SVM Accuracy Score ->  63.1578947368421\n"
     ]
    }
   ],
   "source": [
    "# Classifier - Algorithm - SVM\n",
    "# fit the training dataset on the classifier\n",
    "SVM = svm.SVC(C=1.0, kernel='linear', degree=3, gamma='auto')\n",
    "SVM.fit(Train_X_Tfidf,Train_Y)\n",
    "# predict the labels on validation dataset\n",
    "predictions_SVM = SVM.predict(Test_X_Tfidf)\n",
    "# Use accuracy_score function to get the accuracy\n",
    "print(\"SVM Accuracy Score -> \",accuracy_score(predictions_SVM, Test_Y)*100)"
   ]
  },
  {
   "cell_type": "code",
   "execution_count": 205,
   "metadata": {
    "collapsed": true
   },
   "outputs": [
    {
     "data": {
      "text/plain": [
       "'hey viewers today gonna share views prestigious hospital named hospital . today reviewing hospital behalf friend lives bangalore hotel management . recently bit ill hospitalized hospital taken care nurses ward boys normally two days bed rest charged high facilities good looks outer side .infrastructure infrastructure descent quality rooms good garden outside beautiful feels relaxing look it.medical care medical care average better hospital large name also famous india . facilities bit backward side cost lot patients worth .staff attitude attitude staff descent sometimes behave like rudely stopped early possible came hospital taken care expect care staff .hence review hospital hope guys like .'"
      ]
     },
     "execution_count": 205,
     "metadata": {},
     "output_type": "execute_result"
    }
   ],
   "source": [
    "manipal_data.iloc[1,2]"
   ]
  },
  {
   "cell_type": "code",
   "execution_count": 208,
   "metadata": {
    "collapsed": true
   },
   "outputs": [
    {
     "data": {
      "text/plain": [
       "'hey viewer today gon na share view prestigious hospital named hospital . today reviewing hospital behalf friend life bangalore hotel management . recently bit ill hospitalized hospital taken care nurse ward boy normally two day bed rest charged high facility good look outer side .infrastructure infrastructure descent quality room good garden outside beautiful feel relaxing look it.medical care medical care average better hospital large name also famous india . facility bit backward side cost lot patient worth .staff attitude attitude staff descent sometimes behave like rudely stopped early possible came hospital taken care expect care staff .hence review hospital hope guy like .'"
      ]
     },
     "execution_count": 208,
     "metadata": {},
     "output_type": "execute_result"
    }
   ],
   "source": [
    "manipal_data.iloc[1,2]"
   ]
  },
  {
   "cell_type": "code",
   "execution_count": 245,
   "metadata": {},
   "outputs": [
    {
     "data": {
      "text/plain": [
       "95"
      ]
     },
     "execution_count": 245,
     "metadata": {},
     "output_type": "execute_result"
    }
   ],
   "source": [
    "len(Test_Y)"
   ]
  },
  {
   "cell_type": "code",
   "execution_count": 246,
   "metadata": {},
   "outputs": [
    {
     "data": {
      "text/plain": [
       "95"
      ]
     },
     "execution_count": 246,
     "metadata": {},
     "output_type": "execute_result"
    }
   ],
   "source": [
    "len(predictions_SVM)"
   ]
  },
  {
   "cell_type": "code",
   "execution_count": 194,
   "metadata": {},
   "outputs": [
    {
     "name": "stdout",
     "output_type": "stream",
     "text": [
      "Once deleted, variables cannot be recovered. Proceed (y/[n])? y\n"
     ]
    }
   ],
   "source": [
    "%reset"
   ]
  },
  {
   "cell_type": "code",
   "execution_count": 251,
   "metadata": {},
   "outputs": [
    {
     "data": {
      "text/plain": [
       "2"
      ]
     },
     "execution_count": 251,
     "metadata": {},
     "output_type": "execute_result"
    }
   ],
   "source": [
    "manipal_data['Star_Rating'][1]"
   ]
  },
  {
   "cell_type": "code",
   "execution_count": 33,
   "metadata": {},
   "outputs": [],
   "source": [
    "#Converting rating values from 1 to 5 to 0 & 1 (0-Not good, 1- Good)\n",
    "Classification_Rating=[]\n",
    "for i in range(len(manipal_data)):\n",
    "    rating=manipal_data['Star_Rating'][i]\n",
    "    if rating>=4:\n",
    "        Classification_Rating.append('1')\n",
    "    else:\n",
    "        Classification_Rating.append('0')\n",
    "\n",
    "manipal_data['Classification_Rating']=Classification_Rating\n",
    "    "
   ]
  },
  {
   "cell_type": "code",
   "execution_count": 34,
   "metadata": {},
   "outputs": [
    {
     "data": {
      "text/html": [
       "<div>\n",
       "<style scoped>\n",
       "    .dataframe tbody tr th:only-of-type {\n",
       "        vertical-align: middle;\n",
       "    }\n",
       "\n",
       "    .dataframe tbody tr th {\n",
       "        vertical-align: top;\n",
       "    }\n",
       "\n",
       "    .dataframe thead th {\n",
       "        text-align: right;\n",
       "    }\n",
       "</style>\n",
       "<table border=\"1\" class=\"dataframe\">\n",
       "  <thead>\n",
       "    <tr style=\"text-align: right;\">\n",
       "      <th></th>\n",
       "      <th>Unnamed: 0</th>\n",
       "      <th>sl.no</th>\n",
       "      <th>Review_Text</th>\n",
       "      <th>Star_Rating</th>\n",
       "      <th>Number_of_Views</th>\n",
       "      <th>No_of_reviews_by_reviewer</th>\n",
       "      <th>Review.Title</th>\n",
       "      <th>Source</th>\n",
       "      <th>Classification_Rating</th>\n",
       "    </tr>\n",
       "  </thead>\n",
       "  <tbody>\n",
       "    <tr>\n",
       "      <th>0</th>\n",
       "      <td>1</td>\n",
       "      <td>1</td>\n",
       "      <td>day hospital become good business.i went hospi...</td>\n",
       "      <td>1</td>\n",
       "      <td>1477</td>\n",
       "      <td>103</td>\n",
       "      <td>Manipal Hospital , yes it is moneypal hospital</td>\n",
       "      <td>Mouthshot</td>\n",
       "      <td>0</td>\n",
       "    </tr>\n",
       "    <tr>\n",
       "      <th>1</th>\n",
       "      <td>2</td>\n",
       "      <td>2</td>\n",
       "      <td>hey viewer today gon na share view prestigious...</td>\n",
       "      <td>2</td>\n",
       "      <td>2861</td>\n",
       "      <td>72</td>\n",
       "      <td>A nice and great</td>\n",
       "      <td>Mouthshot</td>\n",
       "      <td>0</td>\n",
       "    </tr>\n",
       "    <tr>\n",
       "      <th>2</th>\n",
       "      <td>3</td>\n",
       "      <td>3</td>\n",
       "      <td>nice great hospital . modern facility . people...</td>\n",
       "      <td>3</td>\n",
       "      <td>8955</td>\n",
       "      <td>12</td>\n",
       "      <td>Manipal Hospital takes too much money</td>\n",
       "      <td>Mouthshot</td>\n",
       "      <td>0</td>\n",
       "    </tr>\n",
       "    <tr>\n",
       "      <th>3</th>\n",
       "      <td>4</td>\n",
       "      <td>4</td>\n",
       "      <td>dear reader friend went vacation family last w...</td>\n",
       "      <td>2</td>\n",
       "      <td>4143</td>\n",
       "      <td>117</td>\n",
       "      <td>Amazing Hospital</td>\n",
       "      <td>Mouthshot</td>\n",
       "      <td>0</td>\n",
       "    </tr>\n",
       "    <tr>\n",
       "      <th>4</th>\n",
       "      <td>5</td>\n",
       "      <td>5</td>\n",
       "      <td>hospital veru good outstanding treating patien...</td>\n",
       "      <td>5</td>\n",
       "      <td>3597</td>\n",
       "      <td>55</td>\n",
       "      <td>Money minded hospital</td>\n",
       "      <td>Mouthshot</td>\n",
       "      <td>1</td>\n",
       "    </tr>\n",
       "  </tbody>\n",
       "</table>\n",
       "</div>"
      ],
      "text/plain": [
       "   Unnamed: 0  sl.no                                        Review_Text  \\\n",
       "0           1      1  day hospital become good business.i went hospi...   \n",
       "1           2      2  hey viewer today gon na share view prestigious...   \n",
       "2           3      3  nice great hospital . modern facility . people...   \n",
       "3           4      4  dear reader friend went vacation family last w...   \n",
       "4           5      5  hospital veru good outstanding treating patien...   \n",
       "\n",
       "   Star_Rating  Number_of_Views  No_of_reviews_by_reviewer  \\\n",
       "0            1             1477                        103   \n",
       "1            2             2861                         72   \n",
       "2            3             8955                         12   \n",
       "3            2             4143                        117   \n",
       "4            5             3597                         55   \n",
       "\n",
       "                                     Review.Title     Source  \\\n",
       "0  Manipal Hospital , yes it is moneypal hospital  Mouthshot   \n",
       "1                                A nice and great  Mouthshot   \n",
       "2           Manipal Hospital takes too much money  Mouthshot   \n",
       "3                                Amazing Hospital  Mouthshot   \n",
       "4                           Money minded hospital  Mouthshot   \n",
       "\n",
       "  Classification_Rating  \n",
       "0                     0  \n",
       "1                     0  \n",
       "2                     0  \n",
       "3                     0  \n",
       "4                     1  "
      ]
     },
     "execution_count": 34,
     "metadata": {},
     "output_type": "execute_result"
    }
   ],
   "source": [
    "manipal_data.head()"
   ]
  },
  {
   "cell_type": "code",
   "execution_count": 35,
   "metadata": {},
   "outputs": [
    {
     "name": "stdout",
     "output_type": "stream",
     "text": [
      "Naive Bayes Accuracy Score ->  72.63157894736842\n",
      "SVM Accuracy Score ->  83.15789473684211\n"
     ]
    }
   ],
   "source": [
    "# NB and SVM classifier after classification of ratings\n",
    "#Train and Test data\n",
    "Train_X, Test_X, Train_Y, Test_Y = model_selection.train_test_split(manipal_data['Review_Text'],manipal_data['Classification_Rating'],test_size=0.3)\n",
    "\n",
    "#Label Encoder(to convert categorical values to numbers)(Already ratings are numbers so no need)\n",
    "# Encoder = LabelEncoder()\n",
    "# Train_Y = Encoder.fit_transform(Train_Y)\n",
    "# Test_Y = Encoder.fit_transform(Test_Y)\n",
    "\n",
    "#TF-IDF vectorization\n",
    "Tfidf_vect = TfidfVectorizer(max_features=5000)\n",
    "Tfidf_vect.fit(manipal_data['Review_Text'])\n",
    "Train_X_Tfidf = Tfidf_vect.transform(Train_X)\n",
    "Test_X_Tfidf = Tfidf_vect.transform(Test_X)\n",
    "\n",
    "# fit the training dataset on the NB classifier\n",
    "Naive = naive_bayes.MultinomialNB()\n",
    "Naive.fit(Train_X_Tfidf,Train_Y)\n",
    "# predict the labels on validation dataset\n",
    "predictions_NB = Naive.predict(Test_X_Tfidf)\n",
    "# Use accuracy_score function to get the accuracy\n",
    "print(\"Naive Bayes Accuracy Score -> \",accuracy_score(predictions_NB, Test_Y)*100)\n",
    "\n",
    "# Classifier - Algorithm - SVM\n",
    "# fit the training dataset on the classifier\n",
    "SVM = svm.SVC(C=1.0, kernel='linear', degree=3, gamma='auto')\n",
    "SVM.fit(Train_X_Tfidf,Train_Y)\n",
    "# predict the labels on validation dataset\n",
    "predictions_SVM = SVM.predict(Test_X_Tfidf)\n",
    "# Use accuracy_score function to get the accuracy\n",
    "print(\"SVM Accuracy Score -> \",accuracy_score(predictions_SVM, Test_Y)*100)"
   ]
  },
  {
   "cell_type": "code",
   "execution_count": 53,
   "metadata": {},
   "outputs": [
    {
     "name": "stdout",
     "output_type": "stream",
     "text": [
      "Top terms per cluster:\n",
      "Cluster 0:\n",
      " hospital\n",
      " good\n",
      " doctor\n",
      " care\n",
      " friend\n",
      " staff\n",
      " dr\n",
      " ballal\n",
      " patient\n",
      " surgery\n",
      "Cluster 1:\n",
      " doctor\n",
      " dr\n",
      " hospital\n",
      " test\n",
      " patient\n",
      " asked\n",
      " time\n",
      " report\n",
      " problem\n",
      " money\n",
      "Cluster 2:\n",
      " hospital\n",
      " doctor\n",
      " day\n",
      " baby\n",
      " treatment\n",
      " patient\n",
      " room\n",
      " father\n",
      " time\n",
      " test\n"
     ]
    }
   ],
   "source": [
    "#Clustering using k-means\n",
    "\n",
    "documents=manipal_data['Review_Text'].tolist()\n",
    "from sklearn.feature_extraction.text import TfidfVectorizer\n",
    "from sklearn.cluster import KMeans\n",
    "from sklearn.metrics import adjusted_rand_score\n",
    "\n",
    "vectorizer = TfidfVectorizer(stop_words='english')\n",
    "X = vectorizer.fit_transform(documents)\n",
    "\n",
    "true_k = 3\n",
    "model = KMeans(n_clusters=true_k, init='k-means++', max_iter=100, n_init=1)\n",
    "model.fit(X)\n",
    "\n",
    "print(\"Top terms per cluster:\")\n",
    "order_centroids = model.cluster_centers_.argsort()[:, ::-1]\n",
    "terms = vectorizer.get_feature_names()\n",
    "for i in range(true_k):\n",
    "    print (\"Cluster %d:\" % i)\n",
    "    for ind in order_centroids[i, :10]:\n",
    "        print (' %s' % terms[ind])\n"
   ]
  },
  {
   "cell_type": "code",
   "execution_count": null,
   "metadata": {},
   "outputs": [],
   "source": []
  }
 ],
 "metadata": {
  "kernelspec": {
   "display_name": "Python 3",
   "language": "python",
   "name": "python3"
  },
  "language_info": {
   "codemirror_mode": {
    "name": "ipython",
    "version": 3
   },
   "file_extension": ".py",
   "mimetype": "text/x-python",
   "name": "python",
   "nbconvert_exporter": "python",
   "pygments_lexer": "ipython3",
   "version": "3.7.3"
  }
 },
 "nbformat": 4,
 "nbformat_minor": 2
}
